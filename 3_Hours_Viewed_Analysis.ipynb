{
 "cells": [
  {
   "cell_type": "markdown",
   "metadata": {},
   "source": [
    "### Importing Liberaries & Cleanning The Dataset"
   ]
  },
  {
   "cell_type": "code",
   "execution_count": 2,
   "metadata": {},
   "outputs": [
    {
     "name": "stdout",
     "output_type": "stream",
     "text": [
      "<class 'pandas.core.frame.DataFrame'>\n",
      "RangeIndex: 24812 entries, 0 to 24811\n",
      "Data columns (total 6 columns):\n",
      " #   Column               Non-Null Count  Dtype \n",
      "---  ------               --------------  ----- \n",
      " 0   Title                24812 non-null  object\n",
      " 1   Available Globally?  24812 non-null  object\n",
      " 2   Release Date         8166 non-null   object\n",
      " 3   Hours Viewed         24812 non-null  object\n",
      " 4   Language Indicator   24812 non-null  object\n",
      " 5   Content Type         24812 non-null  object\n",
      "dtypes: object(6)\n",
      "memory usage: 1.1+ MB\n"
     ]
    }
   ],
   "source": [
    "# importing necessary libraries\n",
    "import pandas as pd\n",
    "import numpy as np\n",
    "import matplotlib.pyplot as plt\n",
    "import seaborn as sns\n",
    "\n",
    "import warnings\n",
    "warnings.filterwarnings('ignore')\n",
    "\n",
    "df_original = pd.read_csv(r'C:\\Users\\Mohamed Fawzi\\Desktop\\Netflix Content Strategy\\netflix_content.csv')\n",
    "\n",
    "df = df_original.copy()\n",
    "\n",
    "df.info()\n"
   ]
  },
  {
   "cell_type": "code",
   "execution_count": 3,
   "metadata": {},
   "outputs": [
    {
     "data": {
      "text/html": [
       "<div>\n",
       "<style scoped>\n",
       "    .dataframe tbody tr th:only-of-type {\n",
       "        vertical-align: middle;\n",
       "    }\n",
       "\n",
       "    .dataframe tbody tr th {\n",
       "        vertical-align: top;\n",
       "    }\n",
       "\n",
       "    .dataframe thead th {\n",
       "        text-align: right;\n",
       "    }\n",
       "</style>\n",
       "<table border=\"1\" class=\"dataframe\">\n",
       "  <thead>\n",
       "    <tr style=\"text-align: right;\">\n",
       "      <th></th>\n",
       "      <th>Title</th>\n",
       "      <th>Available Globally?</th>\n",
       "      <th>Release Date</th>\n",
       "      <th>Hours Viewed</th>\n",
       "      <th>Language Indicator</th>\n",
       "      <th>Content Type</th>\n",
       "    </tr>\n",
       "  </thead>\n",
       "  <tbody>\n",
       "    <tr>\n",
       "      <th>0</th>\n",
       "      <td>The Night Agent: Season 1</td>\n",
       "      <td>Yes</td>\n",
       "      <td>2023-03-23</td>\n",
       "      <td>81,21,00,000</td>\n",
       "      <td>English</td>\n",
       "      <td>Show</td>\n",
       "    </tr>\n",
       "    <tr>\n",
       "      <th>1</th>\n",
       "      <td>Ginny &amp; Georgia: Season 2</td>\n",
       "      <td>Yes</td>\n",
       "      <td>2023-01-05</td>\n",
       "      <td>66,51,00,000</td>\n",
       "      <td>English</td>\n",
       "      <td>Show</td>\n",
       "    </tr>\n",
       "  </tbody>\n",
       "</table>\n",
       "</div>"
      ],
      "text/plain": [
       "                       Title Available Globally? Release Date  Hours Viewed  \\\n",
       "0  The Night Agent: Season 1                 Yes   2023-03-23  81,21,00,000   \n",
       "1  Ginny & Georgia: Season 2                 Yes   2023-01-05  66,51,00,000   \n",
       "\n",
       "  Language Indicator Content Type  \n",
       "0            English         Show  \n",
       "1            English         Show  "
      ]
     },
     "execution_count": 3,
     "metadata": {},
     "output_type": "execute_result"
    }
   ],
   "source": [
    "df.head(2)"
   ]
  },
  {
   "cell_type": "markdown",
   "metadata": {},
   "source": [
    "-   Notice that the Hours Viewed column dtype is not a numerical format, we need to convert it to a float instead"
   ]
  },
  {
   "cell_type": "code",
   "execution_count": 4,
   "metadata": {},
   "outputs": [
    {
     "data": {
      "text/plain": [
       "0    812100000.0\n",
       "1    665100000.0\n",
       "2    622800000.0\n",
       "3    507700000.0\n",
       "4    503000000.0\n",
       "Name: Hours Viewed, dtype: float64"
      ]
     },
     "execution_count": 4,
     "metadata": {},
     "output_type": "execute_result"
    }
   ],
   "source": [
    "# converting the column to a float instead of a string\n",
    "df['Hours Viewed'] = df['Hours Viewed'].replace(',', '', regex=True).astype(float)\n",
    "\n",
    "df['Hours Viewed'].head()"
   ]
  },
  {
   "cell_type": "code",
   "execution_count": 5,
   "metadata": {},
   "outputs": [],
   "source": [
    "# Convert the 'Release Date' column to datetime\n",
    "df['Release Date'] = pd.to_datetime(df['Release Date'])\n",
    "\n",
    "# Extract year, month, and day from the 'Release Date' column\n",
    "df['Year'] = df['Release Date'].dt.year\n",
    "df['Month'] = df['Release Date'].dt.month\n",
    "df['Day'] = df['Release Date'].dt.day\n"
   ]
  },
  {
   "cell_type": "code",
   "execution_count": 6,
   "metadata": {},
   "outputs": [
    {
     "name": "stdout",
     "output_type": "stream",
     "text": [
      "<class 'pandas.core.frame.DataFrame'>\n",
      "RangeIndex: 24812 entries, 0 to 24811\n",
      "Data columns (total 9 columns):\n",
      " #   Column               Non-Null Count  Dtype         \n",
      "---  ------               --------------  -----         \n",
      " 0   Title                24812 non-null  object        \n",
      " 1   Available Globally?  24812 non-null  object        \n",
      " 2   Release Date         8166 non-null   datetime64[ns]\n",
      " 3   Hours Viewed         24812 non-null  float64       \n",
      " 4   Language Indicator   24812 non-null  object        \n",
      " 5   Content Type         24812 non-null  object        \n",
      " 6   Year                 24812 non-null  int32         \n",
      " 7   Month                24812 non-null  int32         \n",
      " 8   Day                  8166 non-null   float64       \n",
      "dtypes: datetime64[ns](1), float64(2), int32(2), object(4)\n",
      "memory usage: 1.5+ MB\n"
     ]
    }
   ],
   "source": [
    "# convert the Year column to an integer\n",
    "df['Year'] = pd.to_numeric(df['Year'], errors='coerce').fillna(0).astype(int)\n",
    "\n",
    "# Convert the Month column to an integer\n",
    "df['Month'] = pd.to_numeric(df['Month'], errors='coerce').fillna(0).astype(int)\n",
    "\n",
    "df.info()"
   ]
  },
  {
   "cell_type": "markdown",
   "metadata": {},
   "source": [
    "### Dataset Exploration (EDA):\n",
    "-   ### Points to Explore:\n",
    "    -   1. Global Availability Analysis\n",
    "    -   2. Release Date Analysis\n",
    "    -   3. Hours Viewed Analysis\n",
    "    -   4. Language Analysis\n",
    "    -   5. Content Type Analysis\n",
    "    -   6. Seasonal Analysis\n",
    "    -   7. Correlation Analysis"
   ]
  },
  {
   "cell_type": "markdown",
   "metadata": {},
   "source": [
    "#### 3. Hours Viewed Analysis\n",
    "\n",
    "\n",
    "    "
   ]
  },
  {
   "cell_type": "code",
   "execution_count": 236,
   "metadata": {},
   "outputs": [
    {
     "data": {
      "text/html": [
       "<div>\n",
       "<style scoped>\n",
       "    .dataframe tbody tr th:only-of-type {\n",
       "        vertical-align: middle;\n",
       "    }\n",
       "\n",
       "    .dataframe tbody tr th {\n",
       "        vertical-align: top;\n",
       "    }\n",
       "\n",
       "    .dataframe thead th {\n",
       "        text-align: right;\n",
       "    }\n",
       "</style>\n",
       "<table border=\"1\" class=\"dataframe\">\n",
       "  <thead>\n",
       "    <tr style=\"text-align: right;\">\n",
       "      <th></th>\n",
       "      <th>Title</th>\n",
       "      <th>Available Globally?</th>\n",
       "      <th>Release Date</th>\n",
       "      <th>Hours Viewed</th>\n",
       "      <th>Language Indicator</th>\n",
       "      <th>Content Type</th>\n",
       "    </tr>\n",
       "  </thead>\n",
       "  <tbody>\n",
       "    <tr>\n",
       "      <th>0</th>\n",
       "      <td>The Night Agent: Season 1</td>\n",
       "      <td>Yes</td>\n",
       "      <td>2023-03-23</td>\n",
       "      <td>812100000.0</td>\n",
       "      <td>English</td>\n",
       "      <td>Show</td>\n",
       "    </tr>\n",
       "    <tr>\n",
       "      <th>1</th>\n",
       "      <td>Ginny &amp; Georgia: Season 2</td>\n",
       "      <td>Yes</td>\n",
       "      <td>2023-01-05</td>\n",
       "      <td>665100000.0</td>\n",
       "      <td>English</td>\n",
       "      <td>Show</td>\n",
       "    </tr>\n",
       "  </tbody>\n",
       "</table>\n",
       "</div>"
      ],
      "text/plain": [
       "                       Title Available Globally? Release Date  Hours Viewed  \\\n",
       "0  The Night Agent: Season 1                 Yes   2023-03-23   812100000.0   \n",
       "1  Ginny & Georgia: Season 2                 Yes   2023-01-05   665100000.0   \n",
       "\n",
       "  Language Indicator Content Type  \n",
       "0            English         Show  \n",
       "1            English         Show  "
      ]
     },
     "execution_count": 236,
     "metadata": {},
     "output_type": "execute_result"
    }
   ],
   "source": [
    "df.head(2)"
   ]
  }
 ],
 "metadata": {
  "kernelspec": {
   "display_name": "data_projects",
   "language": "python",
   "name": "python3"
  },
  "language_info": {
   "codemirror_mode": {
    "name": "ipython",
    "version": 3
   },
   "file_extension": ".py",
   "mimetype": "text/x-python",
   "name": "python",
   "nbconvert_exporter": "python",
   "pygments_lexer": "ipython3",
   "version": "3.12.8"
  }
 },
 "nbformat": 4,
 "nbformat_minor": 2
}
