{
 "cells": [
  {
   "cell_type": "markdown",
   "metadata": {},
   "source": [
    "### Netflix Content Strategy Analysis with Python\n",
    "\n",
    "-   In the competitive landscape of streaming services, understanding content strategy is paramount to capturing and retaining an audience. This project aims to dissect and analyze Netflix's content strategy using Python, leveraging various data analysis techniques.\n",
    "\n",
    "-   Through this analysis, we'll explore patterns and trends in Netflix's catalog, including genre distribution, release patterns, and audience engagement metrics. By utilizing Python libraries such as Pandas, Matplotlib, and Seaborn, we'll uncover insights that can inform strategic decisions for content acquisition and production."
   ]
  },
  {
   "cell_type": "markdown",
   "metadata": {},
   "source": [
    "### Importing Liberaries & Cleanning The Dataset"
   ]
  },
  {
   "cell_type": "code",
   "execution_count": 1,
   "metadata": {},
   "outputs": [
    {
     "name": "stdout",
     "output_type": "stream",
     "text": [
      "<class 'pandas.core.frame.DataFrame'>\n",
      "RangeIndex: 24812 entries, 0 to 24811\n",
      "Data columns (total 6 columns):\n",
      " #   Column               Non-Null Count  Dtype \n",
      "---  ------               --------------  ----- \n",
      " 0   Title                24812 non-null  object\n",
      " 1   Available Globally?  24812 non-null  object\n",
      " 2   Release Date         8166 non-null   object\n",
      " 3   Hours Viewed         24812 non-null  object\n",
      " 4   Language Indicator   24812 non-null  object\n",
      " 5   Content Type         24812 non-null  object\n",
      "dtypes: object(6)\n",
      "memory usage: 1.1+ MB\n"
     ]
    }
   ],
   "source": [
    "# importing necessary libraries\n",
    "import pandas as pd\n",
    "import numpy as np\n",
    "import matplotlib.pyplot as plt\n",
    "import seaborn as sns\n",
    "\n",
    "import warnings\n",
    "warnings.filterwarnings('ignore')\n",
    "\n",
    "df_original = pd.read_csv(r'C:\\Users\\Mohamed Fawzi\\Desktop\\Netflix Content Strategy\\netflix_content.csv')\n",
    "\n",
    "df = df_original.copy()\n",
    "\n",
    "df.info()\n"
   ]
  },
  {
   "cell_type": "code",
   "execution_count": 2,
   "metadata": {},
   "outputs": [
    {
     "data": {
      "text/html": [
       "<div>\n",
       "<style scoped>\n",
       "    .dataframe tbody tr th:only-of-type {\n",
       "        vertical-align: middle;\n",
       "    }\n",
       "\n",
       "    .dataframe tbody tr th {\n",
       "        vertical-align: top;\n",
       "    }\n",
       "\n",
       "    .dataframe thead th {\n",
       "        text-align: right;\n",
       "    }\n",
       "</style>\n",
       "<table border=\"1\" class=\"dataframe\">\n",
       "  <thead>\n",
       "    <tr style=\"text-align: right;\">\n",
       "      <th></th>\n",
       "      <th>Title</th>\n",
       "      <th>Available Globally?</th>\n",
       "      <th>Release Date</th>\n",
       "      <th>Hours Viewed</th>\n",
       "      <th>Language Indicator</th>\n",
       "      <th>Content Type</th>\n",
       "    </tr>\n",
       "  </thead>\n",
       "  <tbody>\n",
       "    <tr>\n",
       "      <th>0</th>\n",
       "      <td>The Night Agent: Season 1</td>\n",
       "      <td>Yes</td>\n",
       "      <td>2023-03-23</td>\n",
       "      <td>81,21,00,000</td>\n",
       "      <td>English</td>\n",
       "      <td>Show</td>\n",
       "    </tr>\n",
       "    <tr>\n",
       "      <th>1</th>\n",
       "      <td>Ginny &amp; Georgia: Season 2</td>\n",
       "      <td>Yes</td>\n",
       "      <td>2023-01-05</td>\n",
       "      <td>66,51,00,000</td>\n",
       "      <td>English</td>\n",
       "      <td>Show</td>\n",
       "    </tr>\n",
       "  </tbody>\n",
       "</table>\n",
       "</div>"
      ],
      "text/plain": [
       "                       Title Available Globally? Release Date  Hours Viewed  \\\n",
       "0  The Night Agent: Season 1                 Yes   2023-03-23  81,21,00,000   \n",
       "1  Ginny & Georgia: Season 2                 Yes   2023-01-05  66,51,00,000   \n",
       "\n",
       "  Language Indicator Content Type  \n",
       "0            English         Show  \n",
       "1            English         Show  "
      ]
     },
     "execution_count": 2,
     "metadata": {},
     "output_type": "execute_result"
    }
   ],
   "source": [
    "df.head(2)"
   ]
  },
  {
   "cell_type": "markdown",
   "metadata": {},
   "source": [
    "-   Notice that the Hours Viewed column dtype is not a numerical format, we need to convert it to a float instead"
   ]
  },
  {
   "cell_type": "code",
   "execution_count": 3,
   "metadata": {},
   "outputs": [
    {
     "data": {
      "text/plain": [
       "0    812100000.0\n",
       "1    665100000.0\n",
       "2    622800000.0\n",
       "3    507700000.0\n",
       "4    503000000.0\n",
       "Name: Hours Viewed, dtype: float64"
      ]
     },
     "execution_count": 3,
     "metadata": {},
     "output_type": "execute_result"
    }
   ],
   "source": [
    "# converting the column to a float instead of a string\n",
    "df['Hours Viewed'] = df['Hours Viewed'].replace(',', '', regex=True).astype(float)\n",
    "\n",
    "df['Hours Viewed'].head()"
   ]
  },
  {
   "cell_type": "markdown",
   "metadata": {},
   "source": [
    "### Dataset Exploration (EDA):\n",
    "-   ### Points to Explore:\n",
    "    -   1. Global Availability Analysis\n",
    "    -   2. Release Date Analysis\n",
    "    -   3. Hours Viewed Analysis\n",
    "    -   4. Language Analysis\n",
    "    -   5. Content Type Analysis\n",
    "    -   6. Seasonal Analysis\n",
    "    -   7. Correlation Analysis"
   ]
  },
  {
   "cell_type": "markdown",
   "metadata": {},
   "source": [
    "#### 1. Global Availability Analysis\n",
    "-  How many titles are available globally?\n",
    "    "
   ]
  },
  {
   "cell_type": "code",
   "execution_count": 4,
   "metadata": {},
   "outputs": [
    {
     "data": {
      "text/html": [
       "<div>\n",
       "<style scoped>\n",
       "    .dataframe tbody tr th:only-of-type {\n",
       "        vertical-align: middle;\n",
       "    }\n",
       "\n",
       "    .dataframe tbody tr th {\n",
       "        vertical-align: top;\n",
       "    }\n",
       "\n",
       "    .dataframe thead th {\n",
       "        text-align: right;\n",
       "    }\n",
       "</style>\n",
       "<table border=\"1\" class=\"dataframe\">\n",
       "  <thead>\n",
       "    <tr style=\"text-align: right;\">\n",
       "      <th></th>\n",
       "      <th>Title</th>\n",
       "      <th>Available Globally?</th>\n",
       "      <th>Release Date</th>\n",
       "      <th>Hours Viewed</th>\n",
       "      <th>Language Indicator</th>\n",
       "      <th>Content Type</th>\n",
       "    </tr>\n",
       "  </thead>\n",
       "  <tbody>\n",
       "    <tr>\n",
       "      <th>0</th>\n",
       "      <td>The Night Agent: Season 1</td>\n",
       "      <td>Yes</td>\n",
       "      <td>2023-03-23</td>\n",
       "      <td>812100000.0</td>\n",
       "      <td>English</td>\n",
       "      <td>Show</td>\n",
       "    </tr>\n",
       "    <tr>\n",
       "      <th>1</th>\n",
       "      <td>Ginny &amp; Georgia: Season 2</td>\n",
       "      <td>Yes</td>\n",
       "      <td>2023-01-05</td>\n",
       "      <td>665100000.0</td>\n",
       "      <td>English</td>\n",
       "      <td>Show</td>\n",
       "    </tr>\n",
       "  </tbody>\n",
       "</table>\n",
       "</div>"
      ],
      "text/plain": [
       "                       Title Available Globally? Release Date  Hours Viewed  \\\n",
       "0  The Night Agent: Season 1                 Yes   2023-03-23   812100000.0   \n",
       "1  Ginny & Georgia: Season 2                 Yes   2023-01-05   665100000.0   \n",
       "\n",
       "  Language Indicator Content Type  \n",
       "0            English         Show  \n",
       "1            English         Show  "
      ]
     },
     "execution_count": 4,
     "metadata": {},
     "output_type": "execute_result"
    }
   ],
   "source": [
    "df.head(2)"
   ]
  },
  {
   "cell_type": "code",
   "execution_count": 5,
   "metadata": {},
   "outputs": [
    {
     "data": {
      "image/png": "[encoded data removed]",
      "text/plain": [
       "<Figure size 800x200 with 1 Axes>"
      ]
     },
     "metadata": {},
     "output_type": "display_data"
    }
   ],
   "source": [
    "# Count the Titles Available Globally vs The Titles not Available Globally.\n",
    "df_global_availability = df['Available Globally?'].value_counts().to_frame().reset_index()\n",
    "\n",
    "plt.figure(figsize=(8, 2))\n",
    "\n",
    "colors = ['#3557A0', 'slategrey']\n",
    "sns.barplot(data=df_global_availability,\n",
    "                x='count',\n",
    "                y='Available Globally?', \n",
    "                palette=colors,\n",
    "                \n",
    "                )\n",
    "\n",
    "plt.title('Netflix Titles Available Globally vs Not Available Globally')\n",
    "plt.xlabel('')\n",
    "plt.ylabel('')\n",
    "\n",
    "\n",
    "sns.despine()\n",
    "plt.tight_layout()\n",
    "plt.show()"
   ]
  },
  {
   "cell_type": "code",
   "execution_count": 6,
   "metadata": {},
   "outputs": [
    {
     "data": {
      "image/png": "[encoded data removed]",
      "text/plain": [
       "<Figure size 500x500 with 1 Axes>"
      ]
     },
     "metadata": {},
     "output_type": "display_data"
    }
   ],
   "source": [
    "# Let's calculate the percentage of Titles Available Globally vs The Titles not Available Globally.\n",
    "df_global_availability['percentage'] = ((df_global_availability['count'] / df_global_availability['count'].sum()) * 100).round(2)\n",
    "\n",
    "plt.figure(figsize=(5, 5))\n",
    "\n",
    "colors = ['#3557A0', 'slategrey']\n",
    "plt.pie(df_global_availability['count'], \n",
    "        labels=df_global_availability['Available Globally?'], \n",
    "        autopct='%1.1f%%', \n",
    "        colors=colors,\n",
    "        startangle=60,\n",
    "        explode=(0.02, 0),\n",
    "                \n",
    "        )\n",
    "\n",
    "\n",
    "plt.title('Netflix Titles Available Globally vs Not Available Globally (%)')\n",
    "plt.tight_layout()\n",
    "plt.show()"
   ]
  },
  {
   "cell_type": "markdown",
   "metadata": {},
   "source": [
    "-   #### Key Insights:\n",
    "    -  A significant majority, 69.2%, of the analyzed entities are not available globally. This indicates a substantial portion of the content is restricted or limited in its distribution.\n",
    "    -  The large portion of \"No\" suggests there might be regional restrictions, licensing issues, or strategic decisions in place that limit global availability. Understanding these reasons can help in developing strategies to overcome these barriers."
   ]
  },
  {
   "cell_type": "code",
   "execution_count": null,
   "metadata": {},
   "outputs": [],
   "source": []
  }
 ],
 "metadata": {
  "kernelspec": {
   "display_name": "data_projects",
   "language": "python",
   "name": "python3"
  },
  "language_info": {
   "codemirror_mode": {
    "name": "ipython",
    "version": 3
   },
   "file_extension": ".py",
   "mimetype": "text/x-python",
   "name": "python",
   "nbconvert_exporter": "python",
   "pygments_lexer": "ipython3",
   "version": "3.12.8"
  }
 },
 "nbformat": 4,
 "nbformat_minor": 2
}
